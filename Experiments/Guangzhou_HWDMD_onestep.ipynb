{
 "cells": [
  {
   "cell_type": "markdown",
   "metadata": {},
   "source": [
    "# HW-DMD metro OD matrices forecasting"
   ]
  },
  {
   "cell_type": "code",
   "execution_count": 1,
   "metadata": {},
   "outputs": [],
   "source": [
    "from functions import *\n",
    "import time\n",
    "\n",
    "data = loadmat('..//..//data//OD_3m.mat')\n",
    "data = data['OD']\n",
    "data = remove_weekends(data, start=5)\n",
    "\n",
    "\n",
    "train_idx = start_end_idx('2017-07-03', '2017-07-28', weekend=False, night=False)\n",
    "validate_idx = start_end_idx('2017-07-31', '2017-08-11', weekend=False, night=False)\n",
    "test_idx = start_end_idx('2017-08-14', '2017-08-25', weekend=False, night=False)\n",
    "train_data = data[:, train_idx]\n",
    "test_data = data[:, test_idx]\n",
    "validate_data = data[:, validate_idx]\n",
    "\n",
    "flow0 = od2flow(data)\n",
    "flow = np.zeros((flow0.shape[0]*2, flow0.shape[1]), dtype=flow0.dtype)\n",
    "flow[0:flow0.shape[0], :] = flow0\n",
    "flow[flow0.shape[0]:, 1:] = flow0[:, 0:-1]\n",
    "\n",
    "m_train = train_idx.shape[0]\n",
    "m_validate = validate_idx.shape[0]"
   ]
  },
  {
   "cell_type": "markdown",
   "metadata": {},
   "source": [
    "## Parameter tuning\n",
    "### Select proper time lags"
   ]
  },
  {
   "cell_type": "code",
   "execution_count": 2,
   "metadata": {},
   "outputs": [
    {
     "name": "stdout",
     "output_type": "stream",
     "text": [
      "Add 36 at 164.0978968143463s, rmse: 3.1362083045837763.\n",
      "Add 33 at 388.30192255973816s, rmse: 3.0982986467325655.\n",
      "Add 28 at 684.6307380199432s, rmse: 3.0767488836880235.\n",
      "Add 19 at 1039.1485686302185s, rmse: 3.061842064276677.\n",
      "Add 8 at 1463.277274131775s, rmse: 3.0510533913013465.\n",
      "Add 3 at 1954.2872371673584s, rmse: 3.043973425827124.\n",
      "Add 30 at 2507.328269958496s, rmse: 3.038029467467498.\n",
      "Add 35 at 3116.8793489933014s, rmse: 3.0327733364874363.\n",
      "Add 4 at 3787.3940291404724s, rmse: 3.0282884491409563.\n",
      "Add 14 at 4496.674829244614s, rmse: 3.024708353224316.\n",
      "Add 20 at 5240.622897863388s, rmse: 3.0219491084437142.\n",
      "Add 31 at 6006.985873937607s, rmse: 3.0196036764735816.\n",
      "Add 6 at 6792.346900224686s, rmse: 3.0176560181160124.\n",
      "Add 15 at 7601.914362668991s, rmse: 3.0154690036575524.\n",
      "Add 13 at 8427.622815132141s, rmse: 3.0133847486524394.\n"
     ]
    }
   ],
   "source": [
    "h_selected = []\n",
    "bs = 36\n",
    "h_cadidate = list(range(3, 37))\n",
    "e_best = 1000\n",
    "e_history = []\n",
    "ef_history = []\n",
    "# Incremental update\n",
    "t0 = time.time()\n",
    "while True:\n",
    "    e_current = []\n",
    "    if len(h_selected)>=15:\n",
    "        break\n",
    "    for current_h in h_cadidate:\n",
    "        h = h_selected + [current_h]\n",
    "        model1 = HWDMD(h, 100, 100, 1, bs=bs)\n",
    "        model1.fit(train_data, flow[:, max(h)-1:m_train-1])\n",
    "        P1 = np.zeros(validate_data.shape)\n",
    "        for i in range(int(validate_idx.shape[0]/bs)):\n",
    "            day_idx = validate_idx[i * bs:(i * bs + bs)]\n",
    "            p1 = model1.apply(data[:, day_idx], features=flow[:, day_idx-1], return_fit=True)\n",
    "            P1[:, (i * bs):(i * bs + bs)] = p1\n",
    "            X, Y = stagger_data(data[:, day_idx[0]-max(h): day_idx[-1]+1], h)\n",
    "            X = np.concatenate([X, flow[:, day_idx-1]])\n",
    "            model1.update_model(X, Y)\n",
    "        e_current.append(RMSE(validate_data, P1))\n",
    "\n",
    "    if min(e_current)>e_best:\n",
    "        break\n",
    "    e_best = min(e_current)\n",
    "    e_history.append(e_best)\n",
    "    current_selected_h = h_cadidate[np.argmin(e_current)]\n",
    "    h_selected = h_selected + [current_selected_h]\n",
    "    h_cadidate.remove(current_selected_h)\n",
    "    print('Add {} at {}s, rmse: {}.'.format(current_selected_h, time.time() - t0, e_best))\n",
    "    if len(h_cadidate)==0:\n",
    "        break"
   ]
  },
  {
   "cell_type": "code",
   "execution_count": 3,
   "metadata": {},
   "outputs": [
    {
     "data": {
      "text/plain": [
       "[<matplotlib.lines.Line2D at 0x16786898730>]"
      ]
     },
     "execution_count": 3,
     "metadata": {},
     "output_type": "execute_result"
    },
    {
     "data": {
      "image/png": "[encoded data removed]",
      "text/plain": [
       "<Figure size 432x288 with 1 Axes>"
      ]
     },
     "metadata": {
      "needs_background": "light"
     },
     "output_type": "display_data"
    }
   ],
   "source": [
    "%matplotlib inline\n",
    "plt.plot(e_history)"
   ]
  },
  {
   "cell_type": "markdown",
   "metadata": {},
   "source": [
    "### Select ranks for $r_X$ and $r_Y$ "
   ]
  },
  {
   "cell_type": "code",
   "execution_count": 4,
   "metadata": {},
   "outputs": [
    {
     "name": "stdout",
     "output_type": "stream",
     "text": [
      "Finished rx=20, ry=20, rmse=3.2673263001861748\n",
      "Finished rx=20, ry=30, rmse=3.2480008710919765\n",
      "Finished rx=20, ry=40, rmse=3.244838914159505\n",
      "Finished rx=20, ry=50, rmse=3.2433776659655695\n",
      "Finished rx=20, ry=60, rmse=3.2429840045448595\n",
      "Finished rx=20, ry=70, rmse=3.24287923077492\n",
      "Finished rx=20, ry=80, rmse=3.24290225785158\n",
      "Finished rx=20, ry=90, rmse=3.242864023827199\n",
      "Finished rx=20, ry=100, rmse=3.242856465359819\n",
      "Finished rx=30, ry=20, rmse=3.1507621012189393\n",
      "Finished rx=30, ry=30, rmse=3.120085004203859\n",
      "Finished rx=30, ry=40, rmse=3.113940597461114\n",
      "Finished rx=30, ry=50, rmse=3.110754798575397\n",
      "Finished rx=30, ry=60, rmse=3.110128668653824\n",
      "Finished rx=30, ry=70, rmse=3.1100227745225895\n",
      "Finished rx=30, ry=80, rmse=3.109967841408791\n",
      "Finished rx=30, ry=90, rmse=3.1101732893846235\n",
      "Finished rx=30, ry=100, rmse=3.1101743379646223\n",
      "Finished rx=40, ry=20, rmse=3.1188319075054927\n",
      "Finished rx=40, ry=30, rmse=3.082494924256511\n",
      "Finished rx=40, ry=40, rmse=3.0755267543522833\n",
      "Finished rx=40, ry=50, rmse=3.0712819420855832\n",
      "Finished rx=40, ry=60, rmse=3.0708010994255135\n",
      "Finished rx=40, ry=70, rmse=3.0704478309925247\n",
      "Finished rx=40, ry=80, rmse=3.0704118794716693\n",
      "Finished rx=40, ry=90, rmse=3.0708205837635085\n",
      "Finished rx=40, ry=100, rmse=3.071107461078357\n",
      "Finished rx=50, ry=20, rmse=3.1012724824715647\n",
      "Finished rx=50, ry=30, rmse=3.0598531774692055\n",
      "Finished rx=50, ry=40, rmse=3.0522215640056087\n",
      "Finished rx=50, ry=50, rmse=3.0473603892638823\n",
      "Finished rx=50, ry=60, rmse=3.0468206191983653\n",
      "Finished rx=50, ry=70, rmse=3.0467874404733832\n",
      "Finished rx=50, ry=80, rmse=3.0466478059370985\n",
      "Finished rx=50, ry=90, rmse=3.0470034999023325\n",
      "Finished rx=50, ry=100, rmse=3.0473988710710698\n",
      "Finished rx=60, ry=20, rmse=3.0909097478196728\n",
      "Finished rx=60, ry=30, rmse=3.048258493190551\n",
      "Finished rx=60, ry=40, rmse=3.0402905701914564\n",
      "Finished rx=60, ry=50, rmse=3.035311655062557\n",
      "Finished rx=60, ry=60, rmse=3.034818419429033\n",
      "Finished rx=60, ry=70, rmse=3.034752433630774\n",
      "Finished rx=60, ry=80, rmse=3.03476823447858\n",
      "Finished rx=60, ry=90, rmse=3.0353210193559863\n",
      "Finished rx=60, ry=100, rmse=3.0357406564771607\n",
      "Finished rx=70, ry=20, rmse=3.0821596358806564\n",
      "Finished rx=70, ry=30, rmse=3.039497091721066\n",
      "Finished rx=70, ry=40, rmse=3.0315589682381097\n",
      "Finished rx=70, ry=50, rmse=3.026026453075498\n",
      "Finished rx=70, ry=60, rmse=3.0256262020324365\n",
      "Finished rx=70, ry=70, rmse=3.025868203386708\n",
      "Finished rx=70, ry=80, rmse=3.0260902737791917\n",
      "Finished rx=70, ry=90, rmse=3.026849461641543\n",
      "Finished rx=70, ry=100, rmse=3.027341727580209\n",
      "Finished rx=80, ry=20, rmse=3.079742781878667\n",
      "Finished rx=80, ry=30, rmse=3.0372540316499057\n",
      "Finished rx=80, ry=40, rmse=3.0288161267029396\n",
      "Finished rx=80, ry=50, rmse=3.0235256925500646\n",
      "Finished rx=80, ry=60, rmse=3.023206403334837\n",
      "Finished rx=80, ry=70, rmse=3.023477969818474\n",
      "Finished rx=80, ry=80, rmse=3.0240876555697453\n",
      "Finished rx=80, ry=90, rmse=3.025073843305468\n",
      "Finished rx=80, ry=100, rmse=3.025662568757613\n",
      "Finished rx=90, ry=20, rmse=3.078596693180342\n",
      "Finished rx=90, ry=30, rmse=3.0353799741767986\n",
      "Finished rx=90, ry=40, rmse=3.0263753832716542\n",
      "Finished rx=90, ry=50, rmse=3.0212893901634845\n",
      "Finished rx=90, ry=60, rmse=3.0216220882684657\n",
      "Finished rx=90, ry=70, rmse=3.0220859156039643\n",
      "Finished rx=90, ry=80, rmse=3.022932708037728\n",
      "Finished rx=90, ry=90, rmse=3.024252174078221\n",
      "Finished rx=90, ry=100, rmse=3.0250612840795172\n",
      "Finished rx=100, ry=20, rmse=3.0772862414064672\n",
      "Finished rx=100, ry=30, rmse=3.0335496261390587\n",
      "Finished rx=100, ry=40, rmse=3.0247152340089376\n",
      "Finished rx=100, ry=50, rmse=3.0197834769286107\n",
      "Finished rx=100, ry=60, rmse=3.0201652665328305\n",
      "Finished rx=100, ry=70, rmse=3.0209860321720425\n",
      "Finished rx=100, ry=80, rmse=3.022189024958222\n",
      "Finished rx=100, ry=90, rmse=3.0237544702019092\n",
      "Finished rx=100, ry=100, rmse=3.024708353224316\n"
     ]
    }
   ],
   "source": [
    "m_train = train_idx.shape[0]\n",
    "m_validate = validate_idx.shape[0]\n",
    "\n",
    "bs = 36\n",
    "h = [36, 33, 28, 19,8, 3, 30, 35, 4, 14]\n",
    "\n",
    "tune_rank = np.zeros((9,9))\n",
    "for x,rx in enumerate(range(20, 110, 10)):\n",
    "    for y,ry in enumerate(range(20, 110, 10)):\n",
    "        model1 = HWDMD(h, rx, ry, 1, bs=bs)\n",
    "        model1.fit(train_data, flow[:, max(h)-1:m_train-1])\n",
    "        P1 = np.zeros(validate_data.shape)\n",
    "        for i in range(int(validate_idx.shape[0]/bs)):\n",
    "            day_idx = validate_idx[i * bs:(i * bs + bs)]\n",
    "            p1 = model1.apply(data[:, day_idx], features=flow[:, day_idx-1], return_fit=True)\n",
    "            P1[:, (i * bs):(i * bs + bs)] = p1\n",
    "            X, Y = stagger_data(data[:, day_idx[0]-max(h): day_idx[-1]+1], h)\n",
    "            X = np.concatenate([X, flow[:, day_idx-1]])\n",
    "            model1.update_model(X, Y)\n",
    "        tune_rank[y,x] = RMSE(validate_data, P1)\n",
    "        print('Finished rx={}, ry={}, rmse={}'.format(rx, ry, RMSE(validate_data, P1)))"
   ]
  },
  {
   "cell_type": "markdown",
   "metadata": {},
   "source": [
    "### Select $\\rho$"
   ]
  },
  {
   "cell_type": "code",
   "execution_count": 5,
   "metadata": {},
   "outputs": [
    {
     "data": {
      "image/png": "[encoded data removed]",
      "text/plain": [
       "<Figure size 252x194.4 with 1 Axes>"
      ]
     },
     "metadata": {
      "needs_background": "light"
     },
     "output_type": "display_data"
    }
   ],
   "source": [
    "# Select the rho\n",
    "h = [36, 33, 28, 19,8, 3, 30, 35, 4, 14]\n",
    "bs =36\n",
    "rmse_list = []\n",
    "for rho in np.linspace(0.8, 1, 11):\n",
    "    model1 = HWDMD(h, 100, 50, rho, bs=bs)\n",
    "    model1.fit(train_data, flow[:, max(h)-1:m_train-1])\n",
    "    P1 = np.zeros(validate_data.shape)\n",
    "    for i in range(int(validate_idx.shape[0]/bs)):\n",
    "        day_idx = validate_idx[i * bs:(i * bs + bs)]\n",
    "        p1 = model1.apply(data[:, day_idx], features=flow[:, day_idx-1], return_fit=True)\n",
    "        P1[:, (i * bs):(i * bs + bs)] = p1\n",
    "        X, Y = stagger_data(data[:, day_idx[0]-max(h): day_idx[-1]+1], h)\n",
    "        X = np.concatenate([X, flow[:, day_idx-1]])\n",
    "        model1.update_model(X, Y)\n",
    "    rmse_list.append(RMSE(validate_data, P1))\n",
    "\n",
    "fig, ax = plt.subplots(figsize=(3.5, 2.7))\n",
    "ax.plot(np.linspace(0.8,1,11), rmse_list,'.-')\n",
    "ax.set_ylabel('RMSE')\n",
    "ax.set_xlabel('$\\\\rho$')\n",
    "ax.set_xbound([0.8,1])\n",
    "fig.set_tight_layout(0.01)"
   ]
  },
  {
   "cell_type": "markdown",
   "metadata": {},
   "source": [
    "## Test the model and the online update algorithm\n",
    "The selected hyper-parameters are:\n",
    "- time lag = [36, 33, 28, 19,8, 3, 30, 35, 4, 14]\n",
    "- rankx = 100, ranky=50\n",
    "- $\\rho$=0.92\n",
    "\n",
    "### Online update"
   ]
  },
  {
   "cell_type": "code",
   "execution_count": 6,
   "metadata": {},
   "outputs": [
    {
     "name": "stdout",
     "output_type": "stream",
     "text": [
      "Total RMSE 3.0372455824503954\n",
      " Time 60.31379508972168\n"
     ]
    }
   ],
   "source": [
    "h = [36, 33, 28, 19,8, 3, 30, 35, 4, 14]\n",
    "bs = 36\n",
    "t0 = time.time()\n",
    "model1 = HWDMD(h, 100, 50, 0.92, bs=bs)\n",
    "model1.fit(train_data, flow[:, max(h)-1:m_train-1])\n",
    "test_idx2 = np.arange(validate_idx[0], data.shape[1])\n",
    "P1 = np.zeros((data.shape[0], len(test_idx2)))  # To store predicted values\n",
    "for i in range(int(test_idx2.shape[0]/bs)):\n",
    "    day_idx = test_idx2[i * bs:(i * bs + bs)]\n",
    "    p1 = model1.apply(data[:, day_idx], features=flow[:, day_idx-1], return_fit=True)  # Forecast\n",
    "    P1[:, (i * bs):(i * bs + bs)] = p1\n",
    "    \n",
    "    # Update model\n",
    "    X, Y = stagger_data(data[:, day_idx[0]-max(h): day_idx[-1]+1], h)\n",
    "    X = np.concatenate([X, flow[:, day_idx-1]])\n",
    "    model1.update_model(X, Y)\n",
    "\n",
    "print(\"Total RMSE {}\\n Time {}\".format(RMSE(data[:, test_idx2], P1), time.time()-t0))"
   ]
  },
  {
   "cell_type": "markdown",
   "metadata": {},
   "source": [
    "### Not update"
   ]
  },
  {
   "cell_type": "code",
   "execution_count": 7,
   "metadata": {},
   "outputs": [
    {
     "name": "stdout",
     "output_type": "stream",
     "text": [
      "Total RMSE 3.510742843470735\n",
      " Time 33.35987663269043\n"
     ]
    }
   ],
   "source": [
    "# HWDMD not updated version\n",
    "t0 = time.time()\n",
    "model2 = HWDMD(h, rx=100, ry=50, rho=0.92, bs=bs)\n",
    "model2.fit(train_data, flow[:, max(h)-1:m_train-1])\n",
    "\n",
    "P2 = model2.apply(data[:, validate_idx[0]:], features=flow[:, (validate_idx[0]-1):-1], return_fit=True)\n",
    "np.savez_compressed('..//..//data//OD_HWDMD_no_update_2boarding.npz', data=P2)\n",
    "print(\"Total RMSE {}\\n Time {}\".format(RMSE(data[:, test_idx2], P2), time.time()-t0))"
   ]
  },
  {
   "cell_type": "markdown",
   "metadata": {},
   "source": [
    "### Retrain using the entire data"
   ]
  },
  {
   "cell_type": "code",
   "execution_count": 8,
   "metadata": {},
   "outputs": [
    {
     "name": "stdout",
     "output_type": "stream",
     "text": [
      "Total RMSE 3.0602832645518063\n",
      " Time 2677.726304769516\n"
     ]
    }
   ],
   "source": [
    "t0=time.time()\n",
    "model3 = HWDMD(h, rx=100, ry=50, rho=0.92, bs=bs)\n",
    "model3.fit(data[:, :validate_idx[0]], flow[:, max(h)-1:validate_idx[0]-1])\n",
    "P3 = np.zeros((data.shape[0], len(test_idx2)))  # To store predicted values\n",
    "for i in range(int(test_idx2.shape[0]/bs)):\n",
    "    day_idx = test_idx2[i * bs:(i * bs + bs)]\n",
    "    p3 = model3.apply(data[:, day_idx], features=flow[:, day_idx-1], return_fit=True)  # Forecast\n",
    "    P3[:, (i * bs):(i * bs + bs)] = p3\n",
    "    \n",
    "    # Retrain the model. If input data too large, use memory_save mode\n",
    "    if i <= 21:\n",
    "        memory_save = False\n",
    "    else:\n",
    "        memory_save = True\n",
    "    model3.fit(data[:, :(day_idx[-1]+1)], features=flow[:, max(h)-1:day_idx[-1]], memory_save_mode=memory_save)\n",
    "\n",
    "print(\"Total RMSE {}\\n Time {}\".format(RMSE(data[:, test_idx2], P3), time.time()-t0))"
   ]
  },
  {
   "cell_type": "markdown",
   "metadata": {},
   "source": [
    "### Retrain using the entire data, not weight"
   ]
  },
  {
   "cell_type": "code",
   "execution_count": 9,
   "metadata": {},
   "outputs": [
    {
     "name": "stdout",
     "output_type": "stream",
     "text": [
      "Total RMSE 3.121426143917549\n",
      " Time 2639.3723747730255\n"
     ]
    }
   ],
   "source": [
    "t0 = time.time()\n",
    "model4 = HWDMD(h, rx=100, ry=50, rho=1, bs=bs)\n",
    "model4.fit(data[:, :validate_idx[0]], flow[:, max(h)-1:validate_idx[0]-1])\n",
    "P4 = np.zeros((data.shape[0], len(test_idx2)))  # To store predicted values\n",
    "for i in range(int(test_idx2.shape[0]/bs)):\n",
    "    day_idx = test_idx2[i * bs:(i * bs + bs)]\n",
    "    p4 = model4.apply(data[:, day_idx], features=flow[:, day_idx-1], return_fit=True)  # Forecast\n",
    "    P4[:, (i * bs):(i * bs + bs)] = p4\n",
    "    \n",
    "    # Retrain the model. If input data too large, use memory_save mode\n",
    "    if i <= 21:\n",
    "        memory_save = False\n",
    "    else:\n",
    "        memory_save = True\n",
    "    model4.fit(data[:, :(day_idx[-1]+1)], features=flow[:, max(h)-1:day_idx[-1]], memory_save_mode=memory_save)\n",
    "\n",
    "print(\"Total RMSE {}\\n Time {}\".format(RMSE(data[:, test_idx2], P4), time.time()-t0))"
   ]
  },
  {
   "cell_type": "code",
   "execution_count": 10,
   "metadata": {},
   "outputs": [
    {
     "data": {
      "image/png": "[encoded data removed]",
      "text/plain": [
       "<Figure size 468x216 with 1 Axes>"
      ]
     },
     "metadata": {
      "needs_background": "light"
     },
     "output_type": "display_data"
    }
   ],
   "source": [
    "rmse_p1 = RMSE(data[:, test_idx2], P1, axis=0)\n",
    "rmse_p1 = rmse_p1.reshape((36, -1), order='F')\n",
    "rmse_p1 = rmse_p1.mean(axis=0)\n",
    "\n",
    "rmse_p2 = RMSE(data[:, test_idx2], P2, axis=0)\n",
    "rmse_p2 = rmse_p2.reshape((36, -1), order='F')\n",
    "rmse_p2 = rmse_p2.mean(axis=0)\n",
    "\n",
    "rmse_p3 = RMSE(data[:, test_idx2], P3, axis=0)\n",
    "rmse_p3 = rmse_p3.reshape((36, -1), order='F')\n",
    "rmse_p3 = rmse_p3.mean(axis=0)\n",
    "\n",
    "rmse_p4 = RMSE(data[:, test_idx2], P4, axis=0)\n",
    "rmse_p4 = rmse_p4.reshape((36, -1), order='F')\n",
    "rmse_p4 = rmse_p4.mean(axis=0)\n",
    "\n",
    "idx = pd.date_range(start='2017-07-31', end='2017-09-30')\n",
    "idx = idx[idx.weekday<5]\n",
    "result = pd.DataFrame(index=idx, data = {'Online_update':rmse_p1, 'entire_update':rmse_p3, 'entire_update_equal':rmse_p4,  'No_update':rmse_p2})\n",
    "\n",
    "fig, ax = plt.subplots(figsize=(6.5, 3))\n",
    "result.plot(ylabel='RMSE', style=['s-', 'o-', '+-', '^-'], ms=4, ax=ax, legend=False, fontsize=9)\n",
    "ax.legend((r'Online update, $\\rho=0.92$', r'Retrain every day, $\\rho=0.92$', r'Retrain every day, $\\rho=1$', r'Constant model'))\n",
    "fig.set_tight_layout(0.01)\n",
    "ax.grid(axis='y', linestyle='--')"
   ]
  }
 ],
 "metadata": {
  "kernelspec": {
   "display_name": "Python 3",
   "language": "python",
   "name": "python3"
  },
  "language_info": {
   "codemirror_mode": {
    "name": "ipython",
    "version": 3
   },
   "file_extension": ".py",
   "mimetype": "text/x-python",
   "name": "python",
   "nbconvert_exporter": "python",
   "pygments_lexer": "ipython3",
   "version": "3.8.8"
  },
  "pycharm": {
   "stem_cell": {
    "cell_type": "raw",
    "metadata": {
     "collapsed": false
    },
    "source": []
   }
  }
 },
 "nbformat": 4,
 "nbformat_minor": 4
}

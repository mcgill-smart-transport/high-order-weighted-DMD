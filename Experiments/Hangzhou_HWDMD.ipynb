{
 "cells": [
  {
   "cell_type": "code",
   "execution_count": 1,
   "metadata": {
    "collapsed": true,
    "jupyter": {
     "outputs_hidden": true
    }
   },
   "outputs": [],
   "source": [
    "from functions import *\n",
    "import time\n",
    "\n",
    "data = loadmat('..//data//Hangzhou_OD.mat')\n",
    "data = data['OD']\n",
    "data = remove_weekends(data, start=1)\n",
    "train_idx = np.arange(0, 36*10)\n",
    "validate_idx = np.arange(36*10, 36*14)\n",
    "test_idx = np.arange(36*14, 36*19)\n",
    "num_s = 80\n",
    "\n",
    "train_data = data[:, train_idx]\n",
    "test_data = data[:, test_idx]\n",
    "validate_data = data[:, validate_idx]\n",
    "\n",
    "# Prepare lagged flow as a feature\n",
    "flow0 = od2flow(data, num_s=num_s)\n",
    "flow = np.zeros((flow0.shape[0]*2, flow0.shape[1]), dtype=flow0.dtype)\n",
    "flow[0:flow0.shape[0], :] = flow0\n",
    "flow[flow0.shape[0]:, 1:] = flow0[:, 0:-1]\n",
    "\n",
    "m_train = train_idx.shape[0]\n",
    "m_validate = validate_idx.shape[0]"
   ]
  },
  {
   "cell_type": "markdown",
   "metadata": {
    "pycharm": {
     "name": "#%% md\n"
    }
   },
   "source": [
    "# Parameter tuning\n",
    "## Select proper time lags"
   ]
  },
  {
   "cell_type": "code",
   "execution_count": 3,
   "metadata": {
    "collapsed": false,
    "jupyter": {
     "outputs_hidden": false
    },
    "pycharm": {
     "name": "#%%\n"
    }
   },
   "outputs": [
    {
     "name": "stdout",
     "output_type": "stream",
     "text": [
      "Add 36 at 19.657137155532837s, rmse: 3.264563732436967.\n",
      "Add 32 at 40.93037128448486s, rmse: 3.1813698329118254.\n",
      "Add 3 at 69.3017840385437s, rmse: 3.136637795587813.\n",
      "Add 28 at 103.44764852523804s, rmse: 3.1078992744402645.\n",
      "Add 35 at 143.21459460258484s, rmse: 3.089483931680588.\n",
      "Add 4 at 188.57394361495972s, rmse: 3.07846876665435.\n",
      "Add 18 at 239.77406239509583s, rmse: 3.070371487970408.\n",
      "Add 6 at 295.7334258556366s, rmse: 3.06501604288911.\n",
      "Add 19 at 357.4164276123047s, rmse: 3.061629334241554.\n",
      "Add 14 at 423.4535713195801s, rmse: 3.059140523967363.\n",
      "Add 5 at 493.8545272350311s, rmse: 3.0556455661277844.\n",
      "Add 7 at 567.7491030693054s, rmse: 3.0546093697352115.\n",
      "Add 11 at 644.3557868003845s, rmse: 3.0532725156846796.\n"
     ]
    }
   ],
   "source": [
    "h_selected = []\n",
    "bs = 36\n",
    "h_cadidate = list(range(3, 37))\n",
    "e_best = 1000\n",
    "e_history = []\n",
    "ef_history = []\n",
    "# Incremental update\n",
    "t0 = time.time()\n",
    "while True:\n",
    "    e_current = []\n",
    "    if len(h_selected)>=15:\n",
    "        break\n",
    "    for current_h in h_cadidate:\n",
    "        h = h_selected + [current_h]\n",
    "        model1 = HWDMD(h, 100, 100, 1, bs=bs)\n",
    "        model1.fit(train_data, flow[:, max(h)-1:m_train-1])\n",
    "        P1 = np.zeros(validate_data.shape)\n",
    "        for i in range(int(validate_idx.shape[0]/bs)):\n",
    "            day_idx = validate_idx[i * bs:(i * bs + bs)]\n",
    "            p1 = model1.apply(data[:, day_idx], features=flow[:, day_idx-1], return_fit=True)\n",
    "            P1[:, (i * bs):(i * bs + bs)] = p1\n",
    "            X, Y = stagger_data(data[:, day_idx[0]-max(h): day_idx[-1]+1], h)\n",
    "            X = np.concatenate([X, flow[:, day_idx-1]])\n",
    "            model1.update_model(X, Y)\n",
    "        e_current.append(RMSE(validate_data, P1))\n",
    "\n",
    "    if min(e_current)>e_best:\n",
    "        break\n",
    "    e_best = min(e_current)\n",
    "    e_history.append(e_best)\n",
    "    current_selected_h = h_cadidate[np.argmin(e_current)]\n",
    "    h_selected = h_selected + [current_selected_h]\n",
    "    h_cadidate.remove(current_selected_h)\n",
    "    print('Add {} at {}s, rmse: {}.'.format(current_selected_h, time.time() - t0, e_best))\n",
    "    if len(h_cadidate)==0:\n",
    "        break\n",
    "\n",
    "plt.plot(e_history)"
   ]
  },
  {
   "cell_type": "markdown",
   "metadata": {
    "pycharm": {
     "name": "#%% md\n"
    }
   },
   "source": [
    "## Select ranks for $r_X$ and $r_Y$"
   ]
  },
  {
   "cell_type": "code",
   "execution_count": 5,
   "metadata": {
    "collapsed": false,
    "jupyter": {
     "outputs_hidden": false
    },
    "pycharm": {
     "name": "#%%\n"
    }
   },
   "outputs": [
    {
     "name": "stdout",
     "output_type": "stream",
     "text": [
      "Finished rx=20, ry=20, rmse=3.5626072784866634\n",
      "Finished rx=20, ry=30, rmse=3.556036933907006\n",
      "Finished rx=20, ry=40, rmse=3.556011968213938\n",
      "Finished rx=20, ry=50, rmse=3.5558821643405967\n",
      "Finished rx=20, ry=60, rmse=3.5558034990538565\n",
      "Finished rx=20, ry=70, rmse=3.5558056248084924\n",
      "Finished rx=20, ry=80, rmse=3.556093566841737\n",
      "Finished rx=20, ry=90, rmse=3.555953910018105\n",
      "Finished rx=20, ry=100, rmse=3.5559019203144753\n",
      "Finished rx=30, ry=20, rmse=3.318605207764155\n",
      "Finished rx=30, ry=30, rmse=3.3045235321575936\n",
      "Finished rx=30, ry=40, rmse=3.3019751866203366\n",
      "Finished rx=30, ry=50, rmse=3.3015935214768275\n",
      "Finished rx=30, ry=60, rmse=3.3012042270881983\n",
      "Finished rx=30, ry=70, rmse=3.3010092075332675\n",
      "Finished rx=30, ry=80, rmse=3.301310710001132\n",
      "Finished rx=30, ry=90, rmse=3.3008265503007563\n",
      "Finished rx=30, ry=100, rmse=3.3012476625846445\n",
      "Finished rx=40, ry=20, rmse=3.2145390647775236\n",
      "Finished rx=40, ry=30, rmse=3.1903687680490393\n",
      "Finished rx=40, ry=40, rmse=3.184640886460609\n",
      "Finished rx=40, ry=50, rmse=3.1837086036155307\n",
      "Finished rx=40, ry=60, rmse=3.1830210048769265\n",
      "Finished rx=40, ry=70, rmse=3.1833268932221963\n",
      "Finished rx=40, ry=80, rmse=3.184156673214189\n",
      "Finished rx=40, ry=90, rmse=3.183833063545688\n",
      "Finished rx=40, ry=100, rmse=3.1843499836179547\n",
      "Finished rx=50, ry=20, rmse=3.1514515272893506\n",
      "Finished rx=50, ry=30, rmse=3.120282892428477\n",
      "Finished rx=50, ry=40, rmse=3.1132693384063392\n",
      "Finished rx=50, ry=50, rmse=3.111373011765538\n",
      "Finished rx=50, ry=60, rmse=3.111098715755615\n",
      "Finished rx=50, ry=70, rmse=3.1106930600210148\n",
      "Finished rx=50, ry=80, rmse=3.1106834327510495\n",
      "Finished rx=50, ry=90, rmse=3.110679979825731\n",
      "Finished rx=50, ry=100, rmse=3.111128668762574\n",
      "Finished rx=60, ry=20, rmse=3.134507092673757\n",
      "Finished rx=60, ry=30, rmse=3.091439640256976\n",
      "Finished rx=60, ry=40, rmse=3.0828503681055635\n",
      "Finished rx=60, ry=50, rmse=3.081334102508807\n",
      "Finished rx=60, ry=60, rmse=3.081079457711664\n",
      "Finished rx=60, ry=70, rmse=3.0804485099997145\n",
      "Finished rx=60, ry=80, rmse=3.0800541294110664\n",
      "Finished rx=60, ry=90, rmse=3.0804916550107424\n",
      "Finished rx=60, ry=100, rmse=3.0814157798571764\n",
      "Finished rx=70, ry=20, rmse=3.118626509959072\n",
      "Finished rx=70, ry=30, rmse=3.0683594550580446\n",
      "Finished rx=70, ry=40, rmse=3.0605716725819816\n",
      "Finished rx=70, ry=50, rmse=3.059591195660528\n",
      "Finished rx=70, ry=60, rmse=3.059412846220892\n",
      "Finished rx=70, ry=70, rmse=3.0592691542059818\n",
      "Finished rx=70, ry=80, rmse=3.0589525612154307\n",
      "Finished rx=70, ry=90, rmse=3.0596971259441927\n",
      "Finished rx=70, ry=100, rmse=3.0609945359151136\n",
      "Finished rx=80, ry=20, rmse=3.1161004855460988\n",
      "Finished rx=80, ry=30, rmse=3.06755922810605\n",
      "Finished rx=80, ry=40, rmse=3.060294042465067\n",
      "Finished rx=80, ry=50, rmse=3.0596686433317575\n",
      "Finished rx=80, ry=60, rmse=3.0599617186796833\n",
      "Finished rx=80, ry=70, rmse=3.060146510394688\n",
      "Finished rx=80, ry=80, rmse=3.0604198595817307\n",
      "Finished rx=80, ry=90, rmse=3.061446574524301\n",
      "Finished rx=80, ry=100, rmse=3.0629557383007797\n",
      "Finished rx=90, ry=20, rmse=3.1122307428850444\n",
      "Finished rx=90, ry=30, rmse=3.0627113908872\n",
      "Finished rx=90, ry=40, rmse=3.0556876736993326\n",
      "Finished rx=90, ry=50, rmse=3.0557597236578524\n",
      "Finished rx=90, ry=60, rmse=3.0571290760419023\n",
      "Finished rx=90, ry=70, rmse=3.0575545421618155\n",
      "Finished rx=90, ry=80, rmse=3.05827299428221\n",
      "Finished rx=90, ry=90, rmse=3.06008169714019\n",
      "Finished rx=90, ry=100, rmse=3.061899459495169\n",
      "Finished rx=100, ry=20, rmse=3.107822444866821\n",
      "Finished rx=100, ry=30, rmse=3.057367252473955\n",
      "Finished rx=100, ry=40, rmse=3.051100209122087\n",
      "Finished rx=100, ry=50, rmse=3.0517563426748713\n",
      "Finished rx=100, ry=60, rmse=3.053046043312745\n",
      "Finished rx=100, ry=70, rmse=3.0538544938858805\n",
      "Finished rx=100, ry=80, rmse=3.05499048276322\n",
      "Finished rx=100, ry=90, rmse=3.0572891424584956\n",
      "Finished rx=100, ry=100, rmse=3.059140523967363\n"
     ]
    }
   ],
   "source": [
    "m_train = train_idx.shape[0]\n",
    "m_validate = validate_idx.shape[0]\n",
    "\n",
    "bs = 36\n",
    "h = [36, 32, 3, 28, 35, 4, 18, 6, 19, 14]\n",
    "\n",
    "tune_rank = np.zeros((9,9))\n",
    "for x,rx in enumerate(range(20, 110, 10)):\n",
    "    for y,ry in enumerate(range(20, 110, 10)):\n",
    "        model1 = HWDMD(h, rx, ry, 1, bs=bs)\n",
    "        model1.fit(train_data, flow[:, max(h)-1:m_train-1])\n",
    "        P1 = np.zeros(validate_data.shape)\n",
    "        for i in range(int(validate_idx.shape[0]/bs)):\n",
    "            day_idx = validate_idx[i * bs:(i * bs + bs)]\n",
    "            p1 = model1.apply(data[:, day_idx], features=flow[:, day_idx-1], return_fit=True)\n",
    "            P1[:, (i * bs):(i * bs + bs)] = p1\n",
    "            X, Y = stagger_data(data[:, day_idx[0]-max(h): day_idx[-1]+1], h)\n",
    "            X = np.concatenate([X, flow[:, day_idx-1]])\n",
    "            model1.update_model(X, Y)\n",
    "        tune_rank[y,x] = RMSE(validate_data, P1)\n",
    "        print('Finished rx={}, ry={}, rmse={}'.format(rx, ry, RMSE(validate_data, P1)))"
   ]
  },
  {
   "cell_type": "markdown",
   "metadata": {
    "pycharm": {
     "name": "#%% md\n"
    }
   },
   "source": [
    "# Select rho"
   ]
  },
  {
   "cell_type": "code",
   "execution_count": 6,
   "metadata": {
    "collapsed": false,
    "jupyter": {
     "outputs_hidden": false
    },
    "pycharm": {
     "name": "#%%\n"
    }
   },
   "outputs": [
    {
     "data": {
      "image/png": "[encoded data removed]",
      "text/plain": [
       "<Figure size 252x194.4 with 1 Axes>"
      ]
     },
     "metadata": {
      "needs_background": "light"
     },
     "output_type": "display_data"
    }
   ],
   "source": [
    "# Select the rho\n",
    "h = [36, 32, 3, 28, 35, 4, 18, 6, 19, 14]\n",
    "bs =36\n",
    "rmse_list = []\n",
    "for rho in np.linspace(0.8, 1, 11):\n",
    "    model1 = HWDMD(h, 100, 40, rho, bs=bs)\n",
    "    model1.fit(train_data, flow[:, max(h)-1:m_train-1])\n",
    "    P1 = np.zeros(validate_data.shape)\n",
    "    for i in range(int(validate_idx.shape[0]/bs)):\n",
    "        day_idx = validate_idx[i * bs:(i * bs + bs)]\n",
    "        p1 = model1.apply(data[:, day_idx], features=flow[:, day_idx-1], return_fit=True)\n",
    "        P1[:, (i * bs):(i * bs + bs)] = p1\n",
    "        X, Y = stagger_data(data[:, day_idx[0]-max(h): day_idx[-1]+1], h)\n",
    "        X = np.concatenate([X, flow[:, day_idx-1]])\n",
    "        model1.update_model(X, Y)\n",
    "    rmse_list.append(RMSE(validate_data, P1))\n",
    "\n",
    "plt.plot(np.linspace(0.8,1,11), rmse_list,'.-')"
   ]
  },
  {
   "cell_type": "markdown",
   "metadata": {
    "pycharm": {
     "name": "#%% md\n"
    }
   },
   "source": [
    "# Multi-step prediction using selected $\\rho$\n",
    "- The selected hyper-parameters are:\n",
    "- time lag = [36, 32, 3, 28, 35, 4, 18, 6, 19, 14]\n",
    "- rankx = 100, ranky=40\n",
    "- $\\rho$=0.92"
   ]
  },
  {
   "cell_type": "code",
   "execution_count": 8,
   "metadata": {
    "collapsed": false,
    "jupyter": {
     "outputs_hidden": false
    },
    "pycharm": {
     "name": "#%%\n"
    }
   },
   "outputs": [
    {
     "name": "stdout",
     "output_type": "stream",
     "text": [
      "3.36195181632453\n",
      "3.4133265606083047\n",
      "3.4373620902890725\n",
      "3.4489392808458637\n"
     ]
    }
   ],
   "source": [
    "h = [36, 32, 3, 28, 35, 4, 18, 6, 19, 14]\n",
    "bs = 36\n",
    "rho = 0.92\n",
    "rx = 100\n",
    "ry = 40\n",
    "h.sort()\n",
    "h = np.array(h)\n",
    "\n",
    "ns = 4  # The number of steps to forecast\n",
    "# To store the forecast for each step\n",
    "results = {i: np.zeros((data.shape[0], validate_idx.shape[0] + test_idx.shape[0])) for i in range(1, ns + 1)}\n",
    "buffer_OD = np.zeros((data.shape[0], max(2, ns - 1)))  # To store previously/current forecast OD\n",
    "buffer_flow = np.zeros((num_s, 2 + ns - 1))  # To store real/forecast flow\n",
    "model1 = HWDMD(h, rx, ry, rho=rho, bs=bs)\n",
    "model1.fit(train_data, flow[:, max(h) - 1:m_train - 1])\n",
    "\n",
    "# Initialize buffer OD\n",
    "now = validate_idx[0] - 2\n",
    "for i in range(2):\n",
    "    X = data[:, now - h].reshape((-1, 1), order='F')\n",
    "    X = np.concatenate([X, flow[:, [now - 1]]], axis=0)\n",
    "    buffer_OD[:, [i]] = model1._forecast(X)\n",
    "    now += 1\n",
    "\n",
    "now = validate_idx[0]\n",
    "\n",
    "# Perform the forecast over the validation and the test set\n",
    "for tt in range(validate_idx.shape[0] + test_idx.shape[0]):\n",
    "    buffer_flow[:, 0:2] = flow0[:, now - 2:now]\n",
    "    small_data = data[:, now - max(h):now - 2]\n",
    "    # The `nn`-th step forecast at `tt`\n",
    "    for nn in range(ns):\n",
    "        new_small_data = np.concatenate((small_data[:, nn:], buffer_OD[:, 0:nn]), axis=1)\n",
    "        X = new_small_data[:, -(h - 2)].reshape((-1, 1), order='F')\n",
    "        X = np.concatenate((X, buffer_flow[:, [nn + 1, nn]].reshape((-1, 1), order='F')), axis=0)\n",
    "        od = model1._forecast(X)\n",
    "        results[nn + 1][:, tt] = od.ravel()\n",
    "\n",
    "        # Update buffer OD and buffer flow\n",
    "        if (ns - 3) > nn:\n",
    "            buffer_OD[:, nn + 2] = od.ravel()\n",
    "        if (ns - 1) > nn:\n",
    "            buffer_flow[:, nn + 2] = od2flow(od, num_s=num_s).ravel()\n",
    "\n",
    "    buffer_OD[:, 0] = buffer_OD[:, 1]\n",
    "    buffer_OD[:, 1] = results[1][:, tt]\n",
    "\n",
    "    # If now is a multiple of one-day, perform online update\n",
    "    if (now + 1) % 36 == 0:\n",
    "        X, Y = stagger_data(data[:, now - 35 - max(h): now + 1], h)\n",
    "        X = np.concatenate([X, flow[:, now - 36:now]])\n",
    "        model1.update_model(X, Y)\n",
    "    now += 1\n",
    "\n",
    "test_start = len(validate_idx)\n",
    "test_end = len(validate_idx) + len(test_idx)\n",
    "for key, value in results.items():\n",
    "    np.savez_compressed('..//data//Hangzhou_HWDMD_step{}.npz'.format(key),\n",
    "                        data=value[:, test_start-(key-1) : test_end-(key-1)])"
   ]
  },
  {
   "cell_type": "code",
   "execution_count": 3,
   "metadata": {
    "collapsed": false,
    "jupyter": {
     "outputs_hidden": false
    },
    "pycharm": {
     "name": "#%%\n"
    }
   },
   "outputs": [
    {
     "name": "stdout",
     "output_type": "stream",
     "text": [
      "\n",
      "Results of 1-step forecasting:\n",
      "RMSE of OD: 3.36195181632453\n",
      "WMAPE of OD: 0.31762855361543507\n",
      "SMAPE of OD: 0.9794777294801261\n",
      "MAE of OD: 1.706554527433471\n",
      "r2 of OD: 0.9339520533664918\n",
      "\n",
      "\n",
      "RMSE of flow: 50.08417892456055\n",
      "WMAPE of flow: 0.07381990551948547\n",
      "SMAPE of flow: 0.1461678147315979\n",
      "MAE of flow: 31.729564666748047\n",
      "r2 of flow: 0.9894227479080007\n",
      "\n",
      "Results of 2-step forecasting:\n",
      "RMSE of OD: 3.4133265606083047\n",
      "WMAPE of OD: 0.31956576335102743\n",
      "SMAPE of OD: 2.7687789834193515\n",
      "MAE of OD: 1.7169627668918985\n",
      "r2 of OD: 0.9319180429729862\n",
      "\n",
      "\n",
      "RMSE of flow: 54.13564682006836\n",
      "WMAPE of flow: 0.08050967752933502\n",
      "SMAPE of flow: 0.10912741720676422\n",
      "MAE of flow: 34.60498809814453\n",
      "r2 of flow: 0.9876422792137662\n",
      "\n",
      "Results of 3-step forecasting:\n",
      "RMSE of OD: 3.4373620902890725\n",
      "WMAPE of OD: 0.31843170655001035\n",
      "SMAPE of OD: 1.007607687320247\n",
      "MAE of OD: 1.7108697071020484\n",
      "r2 of OD: 0.9309558453531936\n",
      "\n",
      "\n",
      "RMSE of flow: 56.319705963134766\n",
      "WMAPE of flow: 0.08116553723812103\n",
      "SMAPE of flow: -0.6482987403869629\n",
      "MAE of flow: 34.88689422607422\n",
      "r2 of flow: 0.9866250396716787\n"
     ]
    }
   ],
   "source": [
    "real = data[:, test_idx]\n",
    "flow0 = od2flow(data, num_s=num_s)\n",
    "real_flow = flow0[:, test_idx]\n",
    "predict_dmd1 = np.load('..//data//Hangzhou_HWDMD_step1.npz')['data']\n",
    "predict_dmd2 = np.load('..//data//Hangzhou_HWDMD_step2.npz')['data']\n",
    "predict_dmd3 = np.load('..//data//Hangzhou_HWDMD_step3.npz')['data']\n",
    "\n",
    "print('\\nResults of 1-step forecasting:')\n",
    "predict_flow_dmd1 = od2flow(predict_dmd1, num_s=num_s)\n",
    "get_score(real, predict_dmd1, real_flow, predict_flow_dmd1)\n",
    "\n",
    "print('\\nResults of 2-step forecasting:')\n",
    "predict_flow_dmd2 = od2flow(predict_dmd2, num_s=num_s)\n",
    "get_score(real, predict_dmd2, real_flow, predict_flow_dmd2)\n",
    "\n",
    "print('\\nResults of 3-step forecasting:')\n",
    "predict_flow_dmd3 = od2flow(predict_dmd3, num_s=num_s)\n",
    "get_score(real, predict_dmd3, real_flow, predict_flow_dmd3)"
   ]
  },
  {
   "cell_type": "markdown",
   "metadata": {
    "pycharm": {
     "name": "#%% md\n"
    }
   },
   "source": [
    "# Multi-step forecast when $\\rho=1$"
   ]
  },
  {
   "cell_type": "code",
   "execution_count": 3,
   "metadata": {
    "collapsed": false,
    "jupyter": {
     "outputs_hidden": false
    },
    "pycharm": {
     "name": "#%%\n"
    }
   },
   "outputs": [],
   "source": [
    "h = [36, 32, 3, 28, 35, 4, 18, 6, 19, 14]\n",
    "bs = 36\n",
    "rho = 1\n",
    "rx = 100\n",
    "ry = 40\n",
    "h.sort()\n",
    "h = np.array(h)\n",
    "\n",
    "ns = 4  # The number of steps to forecast\n",
    "# To store the forecast for each step\n",
    "results = {i: np.zeros((data.shape[0], validate_idx.shape[0] + test_idx.shape[0])) for i in range(1, ns + 1)}\n",
    "buffer_OD = np.zeros((data.shape[0], max(2, ns - 1)))  # To store previously/current forecast OD\n",
    "buffer_flow = np.zeros((num_s, 2 + ns - 1))  # To store real/forecast flow\n",
    "model1 = HWDMD(h, rx, ry, rho=rho, bs=bs)\n",
    "model1.fit(train_data, flow[:, max(h) - 1:m_train - 1])\n",
    "\n",
    "# Initialize buffer OD\n",
    "now = validate_idx[0] - 2\n",
    "for i in range(2):\n",
    "    X = data[:, now - h].reshape((-1, 1), order='F')\n",
    "    X = np.concatenate([X, flow[:, [now - 1]]], axis=0)\n",
    "    buffer_OD[:, [i]] = model1._forecast(X)\n",
    "    now += 1\n",
    "\n",
    "now = validate_idx[0]\n",
    "\n",
    "# Perform the forecast over the validation and the test set\n",
    "for tt in range(validate_idx.shape[0] + test_idx.shape[0]):\n",
    "    buffer_flow[:, 0:2] = flow0[:, now - 2:now]\n",
    "    small_data = data[:, now - max(h):now - 2]\n",
    "    # The `nn`-th step forecast at `tt`\n",
    "    for nn in range(ns):\n",
    "        new_small_data = np.concatenate((small_data[:, nn:], buffer_OD[:, 0:nn]), axis=1)\n",
    "        X = new_small_data[:, -(h - 2)].reshape((-1, 1), order='F')\n",
    "        X = np.concatenate((X, buffer_flow[:, [nn + 1, nn]].reshape((-1, 1), order='F')), axis=0)\n",
    "        od = model1._forecast(X)\n",
    "        results[nn + 1][:, tt] = od.ravel()\n",
    "\n",
    "        # Update buffer OD and buffer flow\n",
    "        if (ns - 3) > nn:\n",
    "            buffer_OD[:, nn + 2] = od.ravel()\n",
    "        if (ns - 1) > nn:\n",
    "            buffer_flow[:, nn + 2] = od2flow(od, num_s=num_s).ravel()\n",
    "\n",
    "    buffer_OD[:, 0] = buffer_OD[:, 1]\n",
    "    buffer_OD[:, 1] = results[1][:, tt]\n",
    "\n",
    "    # If now is a multiple of one-day, perform online update\n",
    "    if (now + 1) % 36 == 0:\n",
    "        X, Y = stagger_data(data[:, now - 35 - max(h): now + 1], h)\n",
    "        X = np.concatenate([X, flow[:, now - 36:now]])\n",
    "        model1.update_model(X, Y)\n",
    "    now += 1\n",
    "\n",
    "test_start = len(validate_idx)\n",
    "test_end = len(validate_idx) + len(test_idx)\n",
    "for key, value in results.items():\n",
    "    np.savez_compressed('..//data//Hangzhou_HDMD_step{}.npz'.format(key),\n",
    "                        data=value[:, test_start-(key-1) : test_end-(key-1)])"
   ]
  },
  {
   "cell_type": "code",
   "execution_count": 4,
   "metadata": {
    "collapsed": false,
    "jupyter": {
     "outputs_hidden": false
    },
    "pycharm": {
     "name": "#%%\n"
    }
   },
   "outputs": [
    {
     "name": "stdout",
     "output_type": "stream",
     "text": [
      "\n",
      "Results of 1-step forecasting:\n",
      "RMSE of OD: 3.397137382039478\n",
      "WMAPE of OD: 0.31938323448580724\n",
      "SMAPE of OD: 0.9605407849544783\n",
      "MAE of OD: 1.7159820758999105\n",
      "r2 of OD: 0.9325623277381635\n",
      "\n",
      "\n",
      "RMSE of flow: 51.28380584716797\n",
      "WMAPE of flow: 0.0754397064447403\n",
      "SMAPE of flow: 0.11305169016122818\n",
      "MAE of flow: 32.4257926940918\n",
      "r2 of flow: 0.9889099816679708\n",
      "\n",
      "Results of 2-step forecasting:\n",
      "RMSE of OD: 3.453673292253543\n",
      "WMAPE of OD: 0.32217582533329336\n",
      "SMAPE of OD: 0.9768320021277477\n",
      "MAE of OD: 1.7309861065508096\n",
      "r2 of OD: 0.9302990247069941\n",
      "\n",
      "\n",
      "RMSE of flow: 55.6634635925293\n",
      "WMAPE of flow: 0.08285234123468399\n",
      "SMAPE of flow: 0.1629759967327118\n",
      "MAE of flow: 35.61192321777344\n",
      "r2 of flow: 0.9869349178419045\n",
      "\n",
      "Results of 3-step forecasting:\n",
      "RMSE of OD: 3.4822717048800613\n",
      "WMAPE of OD: 0.3213102167241722\n",
      "SMAPE of OD: 0.9791671071296187\n",
      "MAE of OD: 1.7263353650665614\n",
      "r2 of OD: 0.9291399166644746\n",
      "\n",
      "\n",
      "RMSE of flow: 58.45131301879883\n",
      "WMAPE of flow: 0.08433608710765839\n",
      "SMAPE of flow: 0.12279949337244034\n",
      "MAE of flow: 36.249671936035156\n",
      "r2 of flow: 0.9855934393974776\n"
     ]
    }
   ],
   "source": [
    "real = data[:, test_idx]\n",
    "flow0 = od2flow(data, num_s=num_s)\n",
    "real_flow = flow0[:, test_idx]\n",
    "predict_dmd1 = np.load('..//data//Hangzhou_HDMD_step1.npz')['data']\n",
    "predict_dmd2 = np.load('..//data//Hangzhou_HDMD_step2.npz')['data']\n",
    "predict_dmd3 = np.load('..//data//Hangzhou_HDMD_step3.npz')['data']\n",
    "\n",
    "print('\\nResults of 1-step forecasting:')\n",
    "predict_flow_dmd1 = od2flow(predict_dmd1, num_s=num_s)\n",
    "get_score(real, predict_dmd1, real_flow, predict_flow_dmd1)\n",
    "\n",
    "print('\\nResults of 2-step forecasting:')\n",
    "predict_flow_dmd2 = od2flow(predict_dmd2, num_s=num_s)\n",
    "get_score(real, predict_dmd2, real_flow, predict_flow_dmd2)\n",
    "\n",
    "print('\\nResults of 3-step forecasting:')\n",
    "predict_flow_dmd3 = od2flow(predict_dmd3, num_s=num_s)\n",
    "get_score(real, predict_dmd3, real_flow, predict_flow_dmd3)"
   ]
  }
 ],
 "metadata": {
  "kernelspec": {
   "display_name": "Python 3",
   "language": "python",
   "name": "python3"
  },
  "language_info": {
   "codemirror_mode": {
    "name": "ipython",
    "version": 3
   },
   "file_extension": ".py",
   "mimetype": "text/x-python",
   "name": "python",
   "nbconvert_exporter": "python",
   "pygments_lexer": "ipython3",
   "version": "3.8.8"
  }
 },
 "nbformat": 4,
 "nbformat_minor": 4
}
